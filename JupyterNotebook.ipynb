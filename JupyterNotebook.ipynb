{
 "cells": [
  {
   "cell_type": "markdown",
   "id": "70ff52ee-32fc-4e70-8ce0-293b64848f3f",
   "metadata": {},
   "source": [
    "# My Jupyter NoteBook on IBM Watson Studio "
   ]
  },
  {
   "cell_type": "markdown",
   "id": "c688ffe8-95ea-4ea2-a242-921ccd5d11b1",
   "metadata": {},
   "source": [
    "**Pegah Kolahi**\n",
    "Scientist "
   ]
  },
  {
   "cell_type": "markdown",
   "id": "d715a6bf-c620-42f5-bab2-513271252865",
   "metadata": {},
   "source": [
    "*I'm interested in Data Science because it helps me understand and extract knowledge from the data I work with and it will transform drug discovery cost , speed and efficiency* "
   ]
  },
  {
   "cell_type": "markdown",
   "id": "2c6d2b28-1e21-441f-bb1b-7dff05e83717",
   "metadata": {},
   "source": [
    "### The Following Code will generate a random integer between 30 and 60"
   ]
  },
  {
   "cell_type": "code",
   "execution_count": null,
   "id": "9d6f2e10-9ab4-4c2e-b14b-e59d866874ac",
   "metadata": {},
   "outputs": [
    {
     "name": "stdout",
     "output_type": "stream",
     "text": [
      "35\n"
     ]
    }
   ],
   "source": [
    "import random\n",
    "\n",
    "Random_int = random.randint(30,60)\n",
    "\n",
    "print(Random_int)"
   ]
  },
  {
   "cell_type": "markdown",
   "id": "6df9cabb-8285-47dc-b0dd-49223c8d3197",
   "metadata": {},
   "source": [
    "* My To-Do List\n",
    "\n",
    "1. Finish Assignment\n",
    "2. Study\n",
    "3. Make Dinner\n",
    "4. Sleep \n",
    "\n",
    "`Here is a Table`\n",
    "\n",
    "Name |Last Name |Occupation\n",
    "-----|-----|----- \n",
    "Pegah|Kolahi|Scientist\n",
    "\n",
    "\n",
    "***\n",
    "\n",
    "End of Assignment\n",
    "\n",
    "*** "
   ]
  },
  {
   "cell_type": "code",
   "execution_count": null,
   "id": "0d95bcdb-beab-471f-8971-12526ba16bf1",
   "metadata": {},
   "outputs": [],
   "source": []
  }
 ],
 "metadata": {
  "kernelspec": {
   "display_name": "Python",
   "language": "python",
   "name": "conda-env-python-py"
  },
  "language_info": {
   "codemirror_mode": {
    "name": "ipython",
    "version": 3
   },
   "file_extension": ".py",
   "mimetype": "text/x-python",
   "name": "python",
   "nbconvert_exporter": "python",
   "pygments_lexer": "ipython3",
   "version": "3.7.12"
  },
  "toc-showcode": true
 },
 "nbformat": 4,
 "nbformat_minor": 5
}
